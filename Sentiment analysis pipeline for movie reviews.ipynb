{
 "cells": [
  {
   "cell_type": "markdown",
   "id": "494aabd3",
   "metadata": {},
   "source": [
    "# Step 1: Data Acquisition\n",
    "\n",
    "The NLTK library is utilized to fetch the movie reviews dataset. The dataset comprises positive and negative movie reviews, sourced from the NLTK's movie_reviews corpus."
   ]
  },
  {
   "cell_type": "code",
   "execution_count": 1,
   "id": "19b8de9f",
   "metadata": {},
   "outputs": [],
   "source": [
    "import nltk\n",
    "from nltk.corpus import movie_reviews\n",
    "\n",
    "#download movie_reviews from nldk\n",
    "#nltk.download('movie_reviews')\n",
    "\n",
    "# Access movie reviews\n",
    "reviews = [(list(movie_reviews.words(fileid)), category)\n",
    "           for category in movie_reviews.categories()\n",
    "           for fileid in movie_reviews.fileids(category)]\n",
    "\n"
   ]
  },
  {
   "cell_type": "markdown",
   "id": "9e841087",
   "metadata": {},
   "source": [
    "# Step 2: Data Processing and Cleaning\n",
    "\n",
    "The NLTK library is again utilized to preprocess the data. This involves removing stop words, stemming, and converting words to lowercase, making the text data suitable for analysis.\n"
   ]
  },
  {
   "cell_type": "code",
   "execution_count": 2,
   "id": "61193ace",
   "metadata": {},
   "outputs": [],
   "source": [
    "import nltk\n",
    "\n",
    "#download stopwords\n",
    "#nltk.download('stopwords')\n",
    "\n",
    "from nltk.corpus import stopwords\n",
    "from nltk.tokenize import word_tokenize\n",
    "from nltk.stem import PorterStemmer\n",
    "\n",
    "# Preprocess the data\n",
    "stop_words = set(stopwords.words('english'))\n",
    "ps = PorterStemmer()\n",
    "\n",
    "def process_text(text):\n",
    "    words = [ps.stem(word.lower()) for word in text if word.isalpha() and word.lower() not in stop_words]\n",
    "    return words\n",
    "\n",
    "# Apply processing to all reviews\n",
    "processed_reviews = [(process_text(words), category) for words, category in reviews]\n"
   ]
  },
  {
   "cell_type": "markdown",
   "id": "3c9e35ac",
   "metadata": {},
   "source": [
    "# Step 3: Sentiment Analysis Implementation\n",
    "\n",
    "For sentiment analysis, a machine learning approach is employed using scikit-learn. A Multinomial Naive Bayes classifier is trained on a combination of positive and negative movie reviews. The accuracy of the classifier is evaluated on a test set. Additionally, the project incorporates a rule-based sentiment analysis approach using the SentimentIntensityAnalyzer from NLTK, which calculates sentiment scores using the VADER lexicon."
   ]
  },
  {
   "cell_type": "code",
   "execution_count": 3,
   "id": "8c2b872a",
   "metadata": {},
   "outputs": [
    {
     "name": "stdout",
     "output_type": "stream",
     "text": [
      "Accuracy on the movie_reviews dataset: 0.8075\n",
      "                                                Review Actual Sentiment  \\\n",
      "0    i guess that if a very wild bachelor party had...              neg   \n",
      "1    with the abundance of trite , recycled movies ...              pos   \n",
      "2    as a hot-shot defense attorney , kevin lomax (...              neg   \n",
      "3    hedwig ( john cameron mitchell ) was born a bo...              pos   \n",
      "4    i've heard it called \" jaws with claws \" and t...              neg   \n",
      "..                                                 ...              ...   \n",
      "395  in many ways , \" twotg \" does for tough-guy mo...              pos   \n",
      "396  if only austin powers : the spy who shagged me...              neg   \n",
      "397  when a film is produced on a shoestring budget...              neg   \n",
      "398  titanic is so close to being the perfect movie...              pos   \n",
      "399  it's a curious thing - i've found that when wi...              pos   \n",
      "\n",
      "    Predicted Sentiment  Compound Score  Positive Score  Neutral Score  \\\n",
      "0                   neg         -0.9616           0.140          0.688   \n",
      "1                   pos          0.9074           0.105          0.817   \n",
      "2                   pos         -0.9722           0.107          0.762   \n",
      "3                   pos         -0.9159           0.109          0.768   \n",
      "4                   neg          0.9143           0.105          0.844   \n",
      "..                  ...             ...             ...            ...   \n",
      "395                 pos          0.4335           0.127          0.750   \n",
      "396                 pos         -0.7579           0.147          0.712   \n",
      "397                 pos         -0.9968           0.064          0.751   \n",
      "398                 pos          0.9964           0.205          0.647   \n",
      "399                 pos          0.9809           0.174          0.746   \n",
      "\n",
      "     Negative Score  \n",
      "0             0.172  \n",
      "1             0.077  \n",
      "2             0.132  \n",
      "3             0.122  \n",
      "4             0.052  \n",
      "..              ...  \n",
      "395           0.124  \n",
      "396           0.141  \n",
      "397           0.185  \n",
      "398           0.148  \n",
      "399           0.080  \n",
      "\n",
      "[400 rows x 7 columns]\n"
     ]
    }
   ],
   "source": [
    "from nltk import download, corpus\n",
    "from nltk.tokenize import word_tokenize\n",
    "from nltk.sentiment import SentimentIntensityAnalyzer\n",
    "from sklearn.feature_extraction.text import CountVectorizer\n",
    "from sklearn.naive_bayes import MultinomialNB\n",
    "from sklearn.model_selection import train_test_split\n",
    "from sklearn.metrics import accuracy_score\n",
    "import pandas as pd\n",
    "\n",
    "\n",
    "# Load positive and negative reviews\n",
    "positive_reviews = [(corpus.movie_reviews.raw(fileid), 'pos') for fileid in corpus.movie_reviews.fileids('pos')]\n",
    "negative_reviews = [(corpus.movie_reviews.raw(fileid), 'neg') for fileid in corpus.movie_reviews.fileids('neg')]\n",
    "\n",
    "# Combine positive and negative reviews\n",
    "reviews = positive_reviews + negative_reviews\n",
    "\n",
    "\n",
    "# Split the data into training and testing sets\n",
    "train_reviews, test_reviews = train_test_split(reviews, test_size=0.2, random_state=42)\n",
    "\n",
    "# Vectorize the reviews using CountVectorizer\n",
    "vectorizer = CountVectorizer(tokenizer=word_tokenize, token_pattern=None)\n",
    "X_train = vectorizer.fit_transform([review for review, _ in train_reviews])\n",
    "X_test = vectorizer.transform([review for review, _ in test_reviews])\n",
    "\n",
    "\n",
    "# Labels\n",
    "y_train = [label for _, label in train_reviews]\n",
    "y_test = [label for _, label in test_reviews]\n",
    "\n",
    "# Train the Multinomial Naive Bayes classifier\n",
    "classifier = MultinomialNB()\n",
    "classifier.fit(X_train, y_train)\n",
    "\n",
    "# Predict sentiments on the test set\n",
    "y_pred = classifier.predict(X_test)\n",
    "\n",
    "# Evaluate the accuracy\n",
    "accuracy_score = accuracy_score(y_test, y_pred)\n",
    "print(f\"Accuracy on the movie_reviews dataset: {accuracy_score}\")\n",
    "\n",
    "# Create a SentimentIntensityAnalyzer\n",
    "sid = SentimentIntensityAnalyzer()\n",
    "\n",
    "# Create an empty list to store data\n",
    "data = []\n",
    "\n",
    "# Add reviews, actual labels, and predicted labels to the list\n",
    "for i, (review, actual_label) in enumerate(test_reviews):\n",
    "    # Vectorize the review\n",
    "    review_vectorized = vectorizer.transform([review])\n",
    "\n",
    "    # Predict sentiment using MultinomialNB\n",
    "    predicted_label = classifier.predict(review_vectorized)[0]\n",
    "\n",
    "    # Get the sentiment scores using VADER\n",
    "    sentiment_scores = sid.polarity_scores(review)\n",
    "\n",
    "    # Add the data to the list\n",
    "    data.append({\n",
    "        'Review': review,\n",
    "        'Actual Sentiment': actual_label,\n",
    "        'Predicted Sentiment': predicted_label,\n",
    "        'Compound Score': sentiment_scores['compound'],\n",
    "        'Positive Score': sentiment_scores['pos'],\n",
    "        'Neutral Score': sentiment_scores['neu'],\n",
    "        'Negative Score': sentiment_scores['neg']\n",
    "    })\n",
    "\n",
    "# Create a DataFrame from the list\n",
    "reviews_df = pd.DataFrame(data)\n",
    "\n",
    "# Display the DataFrame\n",
    "print(reviews_df)\n",
    " \n"
   ]
  },
  {
   "cell_type": "markdown",
   "id": "fcddca58",
   "metadata": {},
   "source": [
    "# Step 4: Results Visualization\n",
    "\n",
    "The results of sentiment analysis are visualized using the matplotlib library. A pie chart is created to illustrate the distribution of positive and negative sentiments in the test set."
   ]
  },
  {
   "cell_type": "code",
   "execution_count": 5,
   "id": "2f593aba",
   "metadata": {},
   "outputs": [
    {
     "data": {
      "image/png": "[encoded data removed]",
      "text/plain": [
       "<Figure size 640x480 with 1 Axes>"
      ]
     },
     "metadata": {},
     "output_type": "display_data"
    }
   ],
   "source": [
    "import matplotlib.pyplot as plt\n",
    "\n",
    "labels = ['Positive', 'Negative']\n",
    "sizes = [\n",
    "    len(reviews_df[reviews_df['Actual Sentiment'] == 'pos']),\n",
    "    len(reviews_df[reviews_df['Actual Sentiment'] == 'neg']),\n",
    "   \n",
    "]\n",
    "\n",
    "\n",
    "colors = ['green', 'red']\n",
    "\n",
    "plt.pie(sizes, labels=labels, autopct='%1.1f%%', startangle=90, colors=colors)\n",
    "plt.axis('equal')\n",
    "plt.title('Sentiment Analysis Results')\n",
    "plt.show()\n"
   ]
  },
  {
   "cell_type": "markdown",
   "id": "ba99c0b0",
   "metadata": {},
   "source": [
    "In summary, this project integrates NLTK for text processing, scikit-learn for machine learning, and matplotlib for visualization to create a comprehensive sentiment analysis pipeline for movie reviews. The combination of these technologies allows for a thorough exploration of both rule-based and machine learning-based approaches in sentiment analysis."
   ]
  }
 ],
 "metadata": {
  "kernelspec": {
   "display_name": "Python 3 (ipykernel)",
   "language": "python",
   "name": "python3"
  },
  "language_info": {
   "codemirror_mode": {
    "name": "ipython",
    "version": 3
   },
   "file_extension": ".py",
   "mimetype": "text/x-python",
   "name": "python",
   "nbconvert_exporter": "python",
   "pygments_lexer": "ipython3",
   "version": "3.11.5"
  }
 },
 "nbformat": 4,
 "nbformat_minor": 5
}
